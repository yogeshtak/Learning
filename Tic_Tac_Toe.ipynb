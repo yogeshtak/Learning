{
  "nbformat": 4,
  "nbformat_minor": 0,
  "metadata": {
    "colab": {
      "name": "Tic Tac Toe.ipynb",
      "provenance": [],
      "authorship_tag": "ABX9TyNcnMzHJg6FJGehDhyn1hAx",
      "include_colab_link": true
    },
    "kernelspec": {
      "name": "python3",
      "display_name": "Python 3"
    }
  },
  "cells": [
    {
      "cell_type": "markdown",
      "metadata": {
        "id": "view-in-github",
        "colab_type": "text"
      },
      "source": [
        "<a href=\"https://colab.research.google.com/github/yogeshtak/Learning/blob/master/Tic_Tac_Toe.ipynb\" target=\"_parent\"><img src=\"https://colab.research.google.com/assets/colab-badge.svg\" alt=\"Open In Colab\"/></a>"
      ]
    },
    {
      "cell_type": "code",
      "metadata": {
        "id": "vc593y4PJIG6"
      },
      "source": [
        "def position1():\n",
        "\n",
        "  position = 4\n",
        "\n",
        "  while position not in ['0','1','2']:\n",
        "    position = input(\"Enter position index (0,1,2) only:\")\n",
        "\n",
        "    if position not in ['0','1','2']:\n",
        "      print(\"Invalid Position, select 1 , 2 or 3\")\n",
        "\n",
        "  return int(position)"
      ],
      "execution_count": null,
      "outputs": []
    },
    {
      "cell_type": "code",
      "metadata": {
        "id": "5q16OKQ2rB5O"
      },
      "source": [
        "def gameon():\n",
        "  \n",
        "  choice1 = 'M'\n",
        "  while choice1 not in ['Y','N']:\n",
        "    choice1 = input(\"You want to play more? (Y,N)\")\n",
        "\n",
        "    if choice1 not in ['Y','N']:\n",
        "      print(\"I don't understand this reponse, select Y or N\")\n",
        "\n",
        "    if choice1 == 'Y':\n",
        "      return True\n",
        "\n",
        "    if choice1 == 'N':\n",
        "      return False"
      ],
      "execution_count": null,
      "outputs": []
    },
    {
      "cell_type": "code",
      "metadata": {
        "id": "beH24gmCqaie"
      },
      "source": [
        "def replacementlist(gamelist,position):\n",
        "\n",
        "  user_replace = input(\"Enter what you want to replace with?\")\n",
        "  gamelist[position] = user_replace\n",
        "\n",
        "  return gamelist"
      ],
      "execution_count": null,
      "outputs": []
    },
    {
      "cell_type": "code",
      "metadata": {
        "id": "HoTQ5M4JsBqC",
        "colab": {
          "base_uri": "https://localhost:8080/",
          "height": 98
        },
        "outputId": "c2c3ad7e-d8d0-48c7-f875-1b21c93c6b72"
      },
      "source": [
        "def game():\n",
        "\n",
        "  gamelist = [0,1,2]\n",
        "\n",
        "  choice = True\n",
        "\n",
        "  while choice == True:\n",
        "    print(gamelist)\n",
        "    position = position1()\n",
        "\n",
        "    gamelist = replacementlist(gamelist,position)\n",
        "    print(gamelist)\n",
        "\n",
        "    choice = gameon()\n",
        "\n",
        "game()\n",
        "\n"
      ],
      "execution_count": null,
      "outputs": [
        {
          "output_type": "stream",
          "text": [
            "[0, 1, 2]\n",
            "Enter position index (0,1,2) only:2\n",
            "Enter what you want to replace with?h\n",
            "[0, 1, 'h']\n",
            "You want to play more? (Y,N)N\n"
          ],
          "name": "stdout"
        }
      ]
    },
    {
      "cell_type": "markdown",
      "metadata": {
        "id": "y6dR-b2n1t1n"
      },
      "source": [
        "## **Tic Tac Toe**"
      ]
    },
    {
      "cell_type": "code",
      "metadata": {
        "id": "odrkkKEPtz0M"
      },
      "source": [
        "def display_board(board):\n",
        "  print(f\" {board[7]} | {board[8]} | {board[9]} \")\n",
        "  print(\"___________\")\n",
        "  print(\"           \")\n",
        "  print(f\" {board[4]} | {board[5]} | {board[6]} \")\n",
        "  print(\"____________\")\n",
        "  print(\"           \")\n",
        "  print(f\" {board[1]} | {board[2]} | {board[3]} \")"
      ],
      "execution_count": null,
      "outputs": []
    },
    {
      "cell_type": "code",
      "metadata": {
        "id": "v8sfbDRG24wu",
        "colab": {
          "base_uri": "https://localhost:8080/",
          "height": 131
        },
        "outputId": "5adbf004-f983-4f9a-ba42-9110d5a48214"
      },
      "source": [
        "test_board = ['#','X','O','X','O','X','O','X','O','X']\n",
        "display_board(test_board)"
      ],
      "execution_count": null,
      "outputs": [
        {
          "output_type": "stream",
          "text": [
            " X | O | X \n",
            "___________\n",
            "           \n",
            " O | X | O \n",
            "____________\n",
            "           \n",
            " X | O | X \n"
          ],
          "name": "stdout"
        }
      ]
    },
    {
      "cell_type": "code",
      "metadata": {
        "id": "kR61n8M32-IV"
      },
      "source": [
        "def player_input():\n",
        "  input_req = [\"X\",\"O\"]\n",
        "  abc = True\n",
        "  while abc == True:\n",
        "    first_p = input(\"Enter X or O for player 1:\")\n",
        "\n",
        "    if first_p in input_req:\n",
        "      abc = False\n",
        "\n",
        "      if first_p == \"X\":\n",
        "        second_p = \"O\"\n",
        "      if first_p == \"O\":\n",
        "        second_p = \"X\"\n",
        "\n",
        "\n",
        "  return first_p, second_p"
      ],
      "execution_count": null,
      "outputs": []
    },
    {
      "cell_type": "code",
      "metadata": {
        "id": "J1d-VlHl4vDo",
        "colab": {
          "base_uri": "https://localhost:8080/",
          "height": 50
        },
        "outputId": "bcafa5da-ca05-4950-8c42-40df4a894c70"
      },
      "source": [
        "player_input()"
      ],
      "execution_count": null,
      "outputs": [
        {
          "output_type": "stream",
          "text": [
            "Enter X or O for player 1:X\n"
          ],
          "name": "stdout"
        },
        {
          "output_type": "execute_result",
          "data": {
            "text/plain": [
              "('X', 'O')"
            ]
          },
          "metadata": {
            "tags": []
          },
          "execution_count": 8
        }
      ]
    },
    {
      "cell_type": "code",
      "metadata": {
        "id": "NIirryBQ4w6D"
      },
      "source": [
        "def place_marker(board, marker, position):\n",
        "  board[position] = marker\n",
        "  return board\n",
        "\n",
        "  pass"
      ],
      "execution_count": null,
      "outputs": []
    },
    {
      "cell_type": "code",
      "metadata": {
        "id": "A274dRkf5kvo",
        "colab": {
          "base_uri": "https://localhost:8080/",
          "height": 131
        },
        "outputId": "dfdf941c-3ac3-409c-b70a-954f0e4e2edc"
      },
      "source": [
        "test_board = ['#','X','O','X','O','X','O','X','O','X']\n",
        "test_board = place_marker(test_board,\"X\",2)\n",
        "display_board(test_board)"
      ],
      "execution_count": null,
      "outputs": [
        {
          "output_type": "stream",
          "text": [
            " X | O | X \n",
            "___________\n",
            "           \n",
            " O | X | O \n",
            "____________\n",
            "           \n",
            " X | X | X \n"
          ],
          "name": "stdout"
        }
      ]
    },
    {
      "cell_type": "code",
      "metadata": {
        "id": "t_jpzgQq5zDG",
        "colab": {
          "base_uri": "https://localhost:8080/",
          "height": 131
        },
        "outputId": "61049c9c-546e-4113-9fe4-95e8fabd101b"
      },
      "source": [
        "test_board = place_marker(test_board,'$',8)\n",
        "display_board(test_board)"
      ],
      "execution_count": null,
      "outputs": [
        {
          "output_type": "stream",
          "text": [
            " X | $ | X \n",
            "___________\n",
            "           \n",
            " O | X | O \n",
            "____________\n",
            "           \n",
            " X | X | X \n"
          ],
          "name": "stdout"
        }
      ]
    },
    {
      "cell_type": "code",
      "metadata": {
        "id": "oOboJee16O9d"
      },
      "source": [
        "def win_check(board,mark):\n",
        "\n",
        "  if board[1] == mark and board[2] == mark and board[3] == mark:\n",
        "    print(\"You won\")\n",
        "  if board[1] == mark and board[4] == mark and board[7] == mark:\n",
        "    print(\"You won\")\n",
        "  if board[1] == mark and board[5] == mark and board[9] == mark:\n",
        "    print(\"You won\") \n",
        "  if board[7] == mark and board[5] == mark and board[3] == mark:\n",
        "    print(\"You won\")\n",
        "  if board[7] == mark and board[8] == mark and board[9] == mark:\n",
        "    print(\"You won\")\n",
        "  if board[3] == mark and board[6] == mark and board[9] == mark:\n",
        "    print(\"You won\")\n",
        "  if board[2] == mark and board[5] == mark and board[8] == mark:\n",
        "    print(\"You won\")\n",
        "  if board[4] == mark and board[5] == mark and board[6] == mark:\n",
        "    print(\"You won\")"
      ],
      "execution_count": null,
      "outputs": []
    },
    {
      "cell_type": "code",
      "metadata": {
        "id": "TvQhX7w_6-8Y",
        "colab": {
          "base_uri": "https://localhost:8080/",
          "height": 66
        },
        "outputId": "9184b746-3a35-493f-e48f-c2cec98c4c64"
      },
      "source": [
        "win_check(test_board,\"X\")"
      ],
      "execution_count": null,
      "outputs": [
        {
          "output_type": "stream",
          "text": [
            "You won\n",
            "You won\n",
            "You won\n"
          ],
          "name": "stdout"
        }
      ]
    },
    {
      "cell_type": "code",
      "metadata": {
        "id": "4PIYOSHb7fSm"
      },
      "source": [
        "import random\n",
        "\n",
        "def choose_first():\n",
        "  return random.choice(\"Player 1\",\"Player 2\")"
      ],
      "execution_count": null,
      "outputs": []
    },
    {
      "cell_type": "code",
      "metadata": {
        "id": "CVvrLG1HnvoO"
      },
      "source": [
        "#function to check if the whether a space on the board is free or not\n",
        "\n",
        "def space_check(board,position):\n",
        "  if board[position] == \" \":\n",
        "    return True\n",
        "  else:\n",
        "    return False"
      ],
      "execution_count": null,
      "outputs": []
    },
    {
      "cell_type": "code",
      "metadata": {
        "id": "v82smDPvoQ_s",
        "colab": {
          "base_uri": "https://localhost:8080/",
          "height": 33
        },
        "outputId": "317365d6-36eb-41b6-8cf5-57e3d35428c9"
      },
      "source": [
        "space_check(test_board,4)"
      ],
      "execution_count": null,
      "outputs": [
        {
          "output_type": "execute_result",
          "data": {
            "text/plain": [
              "False"
            ]
          },
          "metadata": {
            "tags": []
          },
          "execution_count": 16
        }
      ]
    },
    {
      "cell_type": "code",
      "metadata": {
        "id": "JSn6TiQCoVn8"
      },
      "source": [
        "#function to check if the board is full and return a boolean value\n",
        "\n",
        "def full_board_check(board):\n",
        "  x = 0\n",
        "  for i in range(1,10):\n",
        "    if board[i] == \" \":\n",
        "      x = x+1\n",
        "  \n",
        "  if x > 0:\n",
        "    return False\n",
        "  if x == 0:\n",
        "    return True"
      ],
      "execution_count": null,
      "outputs": []
    },
    {
      "cell_type": "code",
      "metadata": {
        "id": "rydtOXZaojpU",
        "colab": {
          "base_uri": "https://localhost:8080/",
          "height": 33
        },
        "outputId": "52fe0984-8a13-457f-c954-5912c544aab4"
      },
      "source": [
        "full_board_check(test_board)"
      ],
      "execution_count": null,
      "outputs": [
        {
          "output_type": "execute_result",
          "data": {
            "text/plain": [
              "True"
            ]
          },
          "metadata": {
            "tags": []
          },
          "execution_count": 20
        }
      ]
    },
    {
      "cell_type": "code",
      "metadata": {
        "id": "bpAdhr0aoqty"
      },
      "source": [
        "#function that asks for a player's next position(1-9) and then uses the function from above steps to check if it's a free position. if it is then return the position for later use\n",
        "\n",
        "def player_choice(board):\n",
        "  pos = [1,2,3,4,5,6,7,8,9]\n",
        "  x = True \n",
        "\n",
        "  while x == True:\n",
        "    pos_p = int(input(\"Enter next position from 1 to 9:\"))\n",
        "\n",
        "    if pos_p in pos:\n",
        "      x = False\n",
        "\n",
        "  free_ornot= space_check(board,pos_p)\n",
        "\n",
        "  if free_ornot == True:\n",
        "    return pos_p\n",
        "  else:\n",
        "    return \"Position not free\""
      ],
      "execution_count": null,
      "outputs": []
    },
    {
      "cell_type": "code",
      "metadata": {
        "id": "2uTI26h4rL_m"
      },
      "source": [
        "def replay():\n",
        "  \n",
        "  choice1 = 'M'\n",
        "  while choice1 not in ['Y','N']:\n",
        "    choice1 = input(\"You want to play more? (Y,N)\")\n",
        "\n",
        "    if choice1 not in ['Y','N']:\n",
        "      print(\"I don't understand this reponse, select Y or N\")\n",
        "\n",
        "    if choice1 == 'Y':\n",
        "      return True\n",
        "\n",
        "    if choice1 == 'N':\n",
        "      return False"
      ],
      "execution_count": null,
      "outputs": []
    },
    {
      "cell_type": "code",
      "metadata": {
        "id": "qYpe4CcQreQ0"
      },
      "source": [
        "#Combining everything for Tic Tac Toe\n",
        "\n",
        "print(\"WELCOME TO TIC TAC TOE!\")\n",
        "\n",
        "board = [\"H\",\" \",\" \",\" \",\" \",\" \",\" \",\" \",\" \",\" \"]\n",
        "\n",
        "abc = True\n",
        "\n",
        "while abc == True:\n",
        "  display_board(board)\n",
        "\n",
        "  player1_m, player2_m = player_input()\n",
        "\n",
        "  print(\"Player 1 will go first\")\n",
        "\n",
        "  while full_board_check(board) == False:\n",
        "    \n",
        "\n",
        "\n",
        "\n"
      ],
      "execution_count": null,
      "outputs": []
    }
  ]
}