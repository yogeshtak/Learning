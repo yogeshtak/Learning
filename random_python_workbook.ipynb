{
  "nbformat": 4,
  "nbformat_minor": 0,
  "metadata": {
    "colab": {
      "name": "Copy of The Python Workbook.ipynb",
      "provenance": [],
      "collapsed_sections": []
    },
    "kernelspec": {
      "name": "python3",
      "display_name": "Python 3"
    }
  },
  "cells": [
    {
      "cell_type": "markdown",
      "metadata": {
        "id": "rOtZs0UPge8T"
      },
      "source": [
        "**Excercise 1: Mailing Address**"
      ]
    },
    {
      "cell_type": "code",
      "metadata": {
        "id": "6ZswktJxgZtI",
        "colab": {
          "base_uri": "https://localhost:8080/",
          "height": 82
        },
        "outputId": "a049f1e4-c620-4423-8a39-63b0ae844b34"
      },
      "source": [
        "def mailingaddress():\n",
        "  print(\"Yogesh Tak\")\n",
        "  print(\"C-89, Hello Vihar\")\n",
        "  print(\"Jodhpur\")\n",
        "  print(\"Rajasthan - 278722\")\n",
        "\n",
        "mailingaddress()"
      ],
      "execution_count": null,
      "outputs": [
        {
          "output_type": "stream",
          "text": [
            "Yogesh Tak\n",
            "C-89, Hello Vihar\n",
            "Jodhpur\n",
            "Rajasthan - 278722\n"
          ],
          "name": "stdout"
        }
      ]
    },
    {
      "cell_type": "markdown",
      "metadata": {
        "id": "UqCKMflIhQDg"
      },
      "source": [
        "**Excercise 2: Hello**"
      ]
    },
    {
      "cell_type": "code",
      "metadata": {
        "id": "74mRfk2ehJdi",
        "colab": {
          "base_uri": "https://localhost:8080/",
          "height": 50
        },
        "outputId": "75f2f93b-3e1f-41b8-a630-9cc6104ef932"
      },
      "source": [
        "def hello():\n",
        "  while \n",
        "  name = input(\"What's your name?\")\n",
        "  print(f\"Hello, {name}\")\n",
        "\n",
        "hello()"
      ],
      "execution_count": null,
      "outputs": [
        {
          "output_type": "stream",
          "text": [
            "What's your name?Yogesh\n",
            "Hello, Yogesh\n"
          ],
          "name": "stdout"
        }
      ]
    },
    {
      "cell_type": "code",
      "metadata": {
        "id": "ppUBvyeVjCkN",
        "colab": {
          "base_uri": "https://localhost:8080/",
          "height": 115
        },
        "outputId": "169ed56e-d1e9-4070-c189-50665ab6507c"
      },
      "source": [
        "#if we don't want people to enter any kind of number\n",
        "def hello1():\n",
        "  while True:\n",
        "    name = input(\"What's your name?\")\n",
        "    if not name.isalpha():\n",
        "      print(\"Please enter a valid name with english letters\")\n",
        "    else:\n",
        "      break \n",
        "  print(f\"Hello, {name}\")\n",
        "    \n",
        "hello1()"
      ],
      "execution_count": null,
      "outputs": [
        {
          "output_type": "stream",
          "text": [
            "What's your name?45\n",
            "Please enter a valid name with english letters\n",
            "What's your name?3\n",
            "Please enter a valid name with english letters\n",
            "What's your name?Yogesh\n",
            "Hello, Yogesh\n"
          ],
          "name": "stdout"
        }
      ]
    },
    {
      "cell_type": "markdown",
      "metadata": {
        "id": "bRvSDNFzhOer"
      },
      "source": [
        "**Excercise 3: Area of a Room**"
      ]
    },
    {
      "cell_type": "code",
      "metadata": {
        "id": "q2AwTnh5khtS",
        "colab": {
          "base_uri": "https://localhost:8080/",
          "height": 66
        },
        "outputId": "8a88ec7b-9aef-4f07-e3e5-1175e6865fbe"
      },
      "source": [
        "def areaofroom():\n",
        "  length = float(input(\"Enter length in meters:\"))\n",
        "  width = float(input(\"Enter width in meters:\"))\n",
        "  area = length*width\n",
        "  print(f\"Area: {round(area,2)}m\\u00b2 \")\n",
        "\n",
        "areaofroom()"
      ],
      "execution_count": null,
      "outputs": [
        {
          "output_type": "stream",
          "text": [
            "Enter length in meters:45.7683\n",
            "Enter width in meters:328.2131\n",
            "Area: 15021.76m² \n"
          ],
          "name": "stdout"
        }
      ]
    },
    {
      "cell_type": "markdown",
      "metadata": {
        "id": "UAml5BbHl7m9"
      },
      "source": [
        "**Excercise 4: Area of Field**"
      ]
    },
    {
      "cell_type": "code",
      "metadata": {
        "id": "9gvDlqIRlpiQ",
        "colab": {
          "base_uri": "https://localhost:8080/",
          "height": 66
        },
        "outputId": "492ef545-b0e7-44e0-bbbf-ad7e65e938b2"
      },
      "source": [
        "def areainacre():\n",
        "  length = float(input(\"enter length of field in feet:\"))\n",
        "  width = float(input(\"enter width of field in feet:\"))\n",
        "  area = length*width\n",
        "  area_in_acre = area/43560\n",
        "  print(f\"Area in acre: {round(area_in_acre,2)}\")\n",
        "\n",
        "areainacre()"
      ],
      "execution_count": null,
      "outputs": [
        {
          "output_type": "stream",
          "text": [
            "enter length of field in feet:6723.23\n",
            "enter width of field in feet:327.9\n",
            "Area in acre: 50.61\n"
          ],
          "name": "stdout"
        }
      ]
    },
    {
      "cell_type": "markdown",
      "metadata": {
        "id": "CiJsX98onI9r"
      },
      "source": [
        "**Excercise 5: Bottle Deposits**"
      ]
    },
    {
      "cell_type": "code",
      "metadata": {
        "id": "w0bA3gh-muqt",
        "colab": {
          "base_uri": "https://localhost:8080/",
          "height": 66
        },
        "outputId": "93c17baf-2fa1-439c-d79e-3ae536da99ec"
      },
      "source": [
        "def bottledeposits():\n",
        "  small_bottle = int(input(\"How many containers are you holding with volume one litre or less?\"))\n",
        "  large_bottle = int(input(\"How many drink containers are you holding with volume more than one litre?\"))\n",
        "  print(f\"You'll get refund of ${round((small_bottle*0.10)+(large_bottle*0.25),2)} if you return those containers.\")\n",
        "\n",
        "bottledeposits()"
      ],
      "execution_count": null,
      "outputs": [
        {
          "output_type": "stream",
          "text": [
            "How many containers are you holding with volume one litre or less?54\n",
            "How many drink containers are you holding with volume more than one litre?76\n",
            "You'll get refund of $24.4 if you return those containers.\n"
          ],
          "name": "stdout"
        }
      ]
    },
    {
      "cell_type": "markdown",
      "metadata": {
        "id": "RIC87_dQpbrt"
      },
      "source": [
        "**Excercise 6: Tax and Tip**"
      ]
    },
    {
      "cell_type": "code",
      "metadata": {
        "id": "8PdU8g7yo7KC",
        "colab": {
          "base_uri": "https://localhost:8080/",
          "height": 98
        },
        "outputId": "080d7d35-bd15-48d7-fbba-d87021dd940d"
      },
      "source": [
        "def taxandtip():\n",
        "  cost = float(input(\"Enter cost of meal orderd at restaurant?\"))\n",
        "  tax = 0.10*cost\n",
        "  tip = 0.18*cost\n",
        "  print(f\"Your Cost of Meal was: {cost}\")\n",
        "  print(f\"Your TAX on meal is: {round(tax,2)}\")\n",
        "  print(f\"Tip amount on meal is:{round(tip,2)}\")\n",
        "  print(f\"Grand Total that you need to pay is: {round(cost+tax+tip,2)}\")\n",
        "\n",
        "taxandtip()"
      ],
      "execution_count": null,
      "outputs": [
        {
          "output_type": "stream",
          "text": [
            "Enter cost of meal orderd at restaurant?67\n",
            "Your Cost of Meal was: 67.0\n",
            "Your TAX on meal is: 6.7\n",
            "Tip amount on meal is:12.06\n",
            "Grand Total that you need to pay is: 85.76\n"
          ],
          "name": "stdout"
        }
      ]
    },
    {
      "cell_type": "markdown",
      "metadata": {
        "id": "E_OtRwFHrSbi"
      },
      "source": [
        "**Excercise 7: Sum of the First n positive integers**"
      ]
    },
    {
      "cell_type": "code",
      "metadata": {
        "id": "e1aiSq-Wq0Cc",
        "colab": {
          "base_uri": "https://localhost:8080/",
          "height": 50
        },
        "outputId": "a696d653-1969-4b24-dbfa-c306f1151509"
      },
      "source": [
        "def sumofn():\n",
        "  while True:\n",
        "    n = input(\"Enter a positive integer?\")\n",
        "    try:\n",
        "      val = int(n)\n",
        "      if val < 0:\n",
        "        print(\"This is not positive integer\")\n",
        "        continue\n",
        "      break\n",
        "    except ValueError:\n",
        "      print(\"This is not an int\")\n",
        "\n",
        "  sum1 = (val*(val+1))/2\n",
        "  print(f\"Sum of first {val} positive numbers is: {sum1}\")\n",
        "\n",
        "sumofn()"
      ],
      "execution_count": null,
      "outputs": [
        {
          "output_type": "stream",
          "text": [
            "Enter a positive integer?12\n",
            "Sum of first 12 positive numbers is: 78.0\n"
          ],
          "name": "stdout"
        }
      ]
    },
    {
      "cell_type": "code",
      "metadata": {
        "id": "ylHfmKFwsB6O"
      },
      "source": [
        ""
      ],
      "execution_count": null,
      "outputs": []
    }
  ]
}