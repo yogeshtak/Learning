{
  "nbformat": 4,
  "nbformat_minor": 0,
  "metadata": {
    "colab": {
      "name": "Learning Pandas.ipynb",
      "version": "0.3.2",
      "provenance": [],
      "include_colab_link": true
    },
    "kernelspec": {
      "name": "python3",
      "display_name": "Python 3"
    }
  },
  "cells": [
    {
      "cell_type": "markdown",
      "metadata": {
        "id": "view-in-github",
        "colab_type": "text"
      },
      "source": [
        "<a href=\"https://colab.research.google.com/github/yogeshtak/Learning-Pandas/blob/master/Learning_Pandas.ipynb\" target=\"_parent\"><img src=\"https://colab.research.google.com/assets/colab-badge.svg\" alt=\"Open In Colab\"/></a>"
      ]
    },
    {
      "cell_type": "markdown",
      "metadata": {
        "id": "Cain4hXisJdi",
        "colab_type": "text"
      },
      "source": [
        "Introduction to Pandas (**Learning**) "
      ]
    },
    {
      "cell_type": "code",
      "metadata": {
        "id": "pdpgH4dCsUvp",
        "colab_type": "code",
        "colab": {}
      },
      "source": [
        "import numpy as np\n",
        "import pandas as pd"
      ],
      "execution_count": 0,
      "outputs": []
    },
    {
      "cell_type": "code",
      "metadata": {
        "id": "Pt3qy_pxsZCC",
        "colab_type": "code",
        "colab": {}
      },
      "source": [
        "#creating a series\n",
        "s = pd.Series([1,3,5, np.nan,6,8])"
      ],
      "execution_count": 0,
      "outputs": []
    },
    {
      "cell_type": "code",
      "metadata": {
        "id": "BvRAlZwgslrW",
        "colab_type": "code",
        "colab": {
          "base_uri": "https://localhost:8080/",
          "height": 136
        },
        "outputId": "fd97af0d-df45-4d9e-ae83-76909a085b98"
      },
      "source": [
        "s"
      ],
      "execution_count": 4,
      "outputs": [
        {
          "output_type": "execute_result",
          "data": {
            "text/plain": [
              "0    1.0\n",
              "1    3.0\n",
              "2    5.0\n",
              "3    NaN\n",
              "4    6.0\n",
              "5    8.0\n",
              "dtype: float64"
            ]
          },
          "metadata": {
            "tags": []
          },
          "execution_count": 4
        }
      ]
    },
    {
      "cell_type": "code",
      "metadata": {
        "id": "l4-cmncSsrdo",
        "colab_type": "code",
        "colab": {}
      },
      "source": [
        "#creating a Dataframe by passing a NumPy array, with datetime index\n",
        "dates = pd.date_range('20130101', periods=6)"
      ],
      "execution_count": 0,
      "outputs": []
    },
    {
      "cell_type": "code",
      "metadata": {
        "id": "Ipa8Es85s9vQ",
        "colab_type": "code",
        "colab": {
          "base_uri": "https://localhost:8080/",
          "height": 88
        },
        "outputId": "0def119e-c822-4179-b1d6-7000012d59f3"
      },
      "source": [
        "dates"
      ],
      "execution_count": 6,
      "outputs": [
        {
          "output_type": "execute_result",
          "data": {
            "text/plain": [
              "DatetimeIndex(['2013-01-01', '2013-01-02', '2013-01-03', '2013-01-04',\n",
              "               '2013-01-05', '2013-01-06'],\n",
              "              dtype='datetime64[ns]', freq='D')"
            ]
          },
          "metadata": {
            "tags": []
          },
          "execution_count": 6
        }
      ]
    },
    {
      "cell_type": "code",
      "metadata": {
        "id": "zbKqNh0Es-ow",
        "colab_type": "code",
        "colab": {}
      },
      "source": [
        "df = pd.DataFrame(np.random.randn(6,5), index=dates, columns=list('ABCDE'))"
      ],
      "execution_count": 0,
      "outputs": []
    },
    {
      "cell_type": "code",
      "metadata": {
        "id": "xeP9bbLdtMsr",
        "colab_type": "code",
        "colab": {
          "base_uri": "https://localhost:8080/",
          "height": 235
        },
        "outputId": "e1694aca-da9c-4c11-82c8-c8ad09c3e2a0"
      },
      "source": [
        "df"
      ],
      "execution_count": 12,
      "outputs": [
        {
          "output_type": "execute_result",
          "data": {
            "text/html": [
              "<div>\n",
              "<style scoped>\n",
              "    .dataframe tbody tr th:only-of-type {\n",
              "        vertical-align: middle;\n",
              "    }\n",
              "\n",
              "    .dataframe tbody tr th {\n",
              "        vertical-align: top;\n",
              "    }\n",
              "\n",
              "    .dataframe thead th {\n",
              "        text-align: right;\n",
              "    }\n",
              "</style>\n",
              "<table border=\"1\" class=\"dataframe\">\n",
              "  <thead>\n",
              "    <tr style=\"text-align: right;\">\n",
              "      <th></th>\n",
              "      <th>A</th>\n",
              "      <th>B</th>\n",
              "      <th>C</th>\n",
              "      <th>D</th>\n",
              "      <th>E</th>\n",
              "    </tr>\n",
              "  </thead>\n",
              "  <tbody>\n",
              "    <tr>\n",
              "      <th>2013-01-01</th>\n",
              "      <td>-0.206071</td>\n",
              "      <td>-2.769143</td>\n",
              "      <td>-0.554455</td>\n",
              "      <td>-0.637884</td>\n",
              "      <td>-2.772718</td>\n",
              "    </tr>\n",
              "    <tr>\n",
              "      <th>2013-01-02</th>\n",
              "      <td>-0.516522</td>\n",
              "      <td>-0.324732</td>\n",
              "      <td>-0.412782</td>\n",
              "      <td>-1.538629</td>\n",
              "      <td>-0.187742</td>\n",
              "    </tr>\n",
              "    <tr>\n",
              "      <th>2013-01-03</th>\n",
              "      <td>1.540862</td>\n",
              "      <td>2.142781</td>\n",
              "      <td>-1.151342</td>\n",
              "      <td>1.030643</td>\n",
              "      <td>0.983447</td>\n",
              "    </tr>\n",
              "    <tr>\n",
              "      <th>2013-01-04</th>\n",
              "      <td>-0.307434</td>\n",
              "      <td>1.907115</td>\n",
              "      <td>-0.367869</td>\n",
              "      <td>-0.841948</td>\n",
              "      <td>-1.256099</td>\n",
              "    </tr>\n",
              "    <tr>\n",
              "      <th>2013-01-05</th>\n",
              "      <td>1.403317</td>\n",
              "      <td>0.354736</td>\n",
              "      <td>0.115020</td>\n",
              "      <td>-1.567088</td>\n",
              "      <td>-1.476453</td>\n",
              "    </tr>\n",
              "    <tr>\n",
              "      <th>2013-01-06</th>\n",
              "      <td>-0.557467</td>\n",
              "      <td>0.462761</td>\n",
              "      <td>-0.197045</td>\n",
              "      <td>-1.027950</td>\n",
              "      <td>0.607876</td>\n",
              "    </tr>\n",
              "  </tbody>\n",
              "</table>\n",
              "</div>"
            ],
            "text/plain": [
              "                   A         B         C         D         E\n",
              "2013-01-01 -0.206071 -2.769143 -0.554455 -0.637884 -2.772718\n",
              "2013-01-02 -0.516522 -0.324732 -0.412782 -1.538629 -0.187742\n",
              "2013-01-03  1.540862  2.142781 -1.151342  1.030643  0.983447\n",
              "2013-01-04 -0.307434  1.907115 -0.367869 -0.841948 -1.256099\n",
              "2013-01-05  1.403317  0.354736  0.115020 -1.567088 -1.476453\n",
              "2013-01-06 -0.557467  0.462761 -0.197045 -1.027950  0.607876"
            ]
          },
          "metadata": {
            "tags": []
          },
          "execution_count": 12
        }
      ]
    },
    {
      "cell_type": "code",
      "metadata": {
        "id": "Q6RiMAYwtOOb",
        "colab_type": "code",
        "colab": {}
      },
      "source": [
        "df = pd.DataFrame(np.random.randn(6,4), index=dates, columns=list('ABCD'))"
      ],
      "execution_count": 0,
      "outputs": []
    },
    {
      "cell_type": "code",
      "metadata": {
        "id": "yTLNQ3y_tvBM",
        "colab_type": "code",
        "colab": {
          "base_uri": "https://localhost:8080/",
          "height": 235
        },
        "outputId": "dd3d2a05-4fcf-4a7a-d4e7-452d22f74542"
      },
      "source": [
        "df"
      ],
      "execution_count": 14,
      "outputs": [
        {
          "output_type": "execute_result",
          "data": {
            "text/html": [
              "<div>\n",
              "<style scoped>\n",
              "    .dataframe tbody tr th:only-of-type {\n",
              "        vertical-align: middle;\n",
              "    }\n",
              "\n",
              "    .dataframe tbody tr th {\n",
              "        vertical-align: top;\n",
              "    }\n",
              "\n",
              "    .dataframe thead th {\n",
              "        text-align: right;\n",
              "    }\n",
              "</style>\n",
              "<table border=\"1\" class=\"dataframe\">\n",
              "  <thead>\n",
              "    <tr style=\"text-align: right;\">\n",
              "      <th></th>\n",
              "      <th>A</th>\n",
              "      <th>B</th>\n",
              "      <th>C</th>\n",
              "      <th>D</th>\n",
              "    </tr>\n",
              "  </thead>\n",
              "  <tbody>\n",
              "    <tr>\n",
              "      <th>2013-01-01</th>\n",
              "      <td>0.587544</td>\n",
              "      <td>0.937401</td>\n",
              "      <td>-1.560917</td>\n",
              "      <td>0.644177</td>\n",
              "    </tr>\n",
              "    <tr>\n",
              "      <th>2013-01-02</th>\n",
              "      <td>0.479668</td>\n",
              "      <td>-0.668533</td>\n",
              "      <td>1.557058</td>\n",
              "      <td>0.192983</td>\n",
              "    </tr>\n",
              "    <tr>\n",
              "      <th>2013-01-03</th>\n",
              "      <td>0.439145</td>\n",
              "      <td>0.724800</td>\n",
              "      <td>-1.061360</td>\n",
              "      <td>-0.135357</td>\n",
              "    </tr>\n",
              "    <tr>\n",
              "      <th>2013-01-04</th>\n",
              "      <td>-0.905768</td>\n",
              "      <td>-1.819753</td>\n",
              "      <td>2.036154</td>\n",
              "      <td>-1.054889</td>\n",
              "    </tr>\n",
              "    <tr>\n",
              "      <th>2013-01-05</th>\n",
              "      <td>-1.876355</td>\n",
              "      <td>0.788241</td>\n",
              "      <td>0.313703</td>\n",
              "      <td>0.160906</td>\n",
              "    </tr>\n",
              "    <tr>\n",
              "      <th>2013-01-06</th>\n",
              "      <td>-1.376006</td>\n",
              "      <td>0.352330</td>\n",
              "      <td>0.987541</td>\n",
              "      <td>-0.279898</td>\n",
              "    </tr>\n",
              "  </tbody>\n",
              "</table>\n",
              "</div>"
            ],
            "text/plain": [
              "                   A         B         C         D\n",
              "2013-01-01  0.587544  0.937401 -1.560917  0.644177\n",
              "2013-01-02  0.479668 -0.668533  1.557058  0.192983\n",
              "2013-01-03  0.439145  0.724800 -1.061360 -0.135357\n",
              "2013-01-04 -0.905768 -1.819753  2.036154 -1.054889\n",
              "2013-01-05 -1.876355  0.788241  0.313703  0.160906\n",
              "2013-01-06 -1.376006  0.352330  0.987541 -0.279898"
            ]
          },
          "metadata": {
            "tags": []
          },
          "execution_count": 14
        }
      ]
    },
    {
      "cell_type": "code",
      "metadata": {
        "id": "2y_rX1Gmtv70",
        "colab_type": "code",
        "colab": {}
      },
      "source": [
        "#creating a dataframe by passing a dict of objects that can be converted to series-like\n",
        "df2= pd.DataFrame({'A':1.,\n",
        "                  'B': pd.Timestamp('20130102'),\n",
        "                  'C': pd.Series(1, index=list(range(4)), dtype='float32'),\n",
        "                  'D':np.array([3]*4, dtype='int32'),\n",
        "                  'E': pd.Categorical([\"test\",\"train\",\"test\",\"train\"]),\n",
        "                  'F':'foo'})"
      ],
      "execution_count": 0,
      "outputs": []
    },
    {
      "cell_type": "code",
      "metadata": {
        "id": "hpQuxnvtutHm",
        "colab_type": "code",
        "colab": {
          "base_uri": "https://localhost:8080/",
          "height": 173
        },
        "outputId": "2309c897-3d45-4ee7-d66a-4fb4a8f5d021"
      },
      "source": [
        "df2"
      ],
      "execution_count": 18,
      "outputs": [
        {
          "output_type": "execute_result",
          "data": {
            "text/html": [
              "<div>\n",
              "<style scoped>\n",
              "    .dataframe tbody tr th:only-of-type {\n",
              "        vertical-align: middle;\n",
              "    }\n",
              "\n",
              "    .dataframe tbody tr th {\n",
              "        vertical-align: top;\n",
              "    }\n",
              "\n",
              "    .dataframe thead th {\n",
              "        text-align: right;\n",
              "    }\n",
              "</style>\n",
              "<table border=\"1\" class=\"dataframe\">\n",
              "  <thead>\n",
              "    <tr style=\"text-align: right;\">\n",
              "      <th></th>\n",
              "      <th>A</th>\n",
              "      <th>B</th>\n",
              "      <th>C</th>\n",
              "      <th>D</th>\n",
              "      <th>E</th>\n",
              "      <th>F</th>\n",
              "    </tr>\n",
              "  </thead>\n",
              "  <tbody>\n",
              "    <tr>\n",
              "      <th>0</th>\n",
              "      <td>1.0</td>\n",
              "      <td>2013-01-02</td>\n",
              "      <td>1.0</td>\n",
              "      <td>3</td>\n",
              "      <td>test</td>\n",
              "      <td>foo</td>\n",
              "    </tr>\n",
              "    <tr>\n",
              "      <th>1</th>\n",
              "      <td>1.0</td>\n",
              "      <td>2013-01-02</td>\n",
              "      <td>1.0</td>\n",
              "      <td>3</td>\n",
              "      <td>train</td>\n",
              "      <td>foo</td>\n",
              "    </tr>\n",
              "    <tr>\n",
              "      <th>2</th>\n",
              "      <td>1.0</td>\n",
              "      <td>2013-01-02</td>\n",
              "      <td>1.0</td>\n",
              "      <td>3</td>\n",
              "      <td>test</td>\n",
              "      <td>foo</td>\n",
              "    </tr>\n",
              "    <tr>\n",
              "      <th>3</th>\n",
              "      <td>1.0</td>\n",
              "      <td>2013-01-02</td>\n",
              "      <td>1.0</td>\n",
              "      <td>3</td>\n",
              "      <td>train</td>\n",
              "      <td>foo</td>\n",
              "    </tr>\n",
              "  </tbody>\n",
              "</table>\n",
              "</div>"
            ],
            "text/plain": [
              "     A          B    C  D      E    F\n",
              "0  1.0 2013-01-02  1.0  3   test  foo\n",
              "1  1.0 2013-01-02  1.0  3  train  foo\n",
              "2  1.0 2013-01-02  1.0  3   test  foo\n",
              "3  1.0 2013-01-02  1.0  3  train  foo"
            ]
          },
          "metadata": {
            "tags": []
          },
          "execution_count": 18
        }
      ]
    },
    {
      "cell_type": "code",
      "metadata": {
        "id": "JCBgRg1vuuT1",
        "colab_type": "code",
        "colab": {
          "base_uri": "https://localhost:8080/",
          "height": 136
        },
        "outputId": "df0619ad-740b-49b8-c591-d58613ca7af5"
      },
      "source": [
        "#the columns of the resulting Dataframe have different dtypes\n",
        "df2.dtypes"
      ],
      "execution_count": 19,
      "outputs": [
        {
          "output_type": "execute_result",
          "data": {
            "text/plain": [
              "A           float64\n",
              "B    datetime64[ns]\n",
              "C           float32\n",
              "D             int32\n",
              "E          category\n",
              "F            object\n",
              "dtype: object"
            ]
          },
          "metadata": {
            "tags": []
          },
          "execution_count": 19
        }
      ]
    },
    {
      "cell_type": "markdown",
      "metadata": {
        "id": "FjXLecFav1Yv",
        "colab_type": "text"
      },
      "source": [
        "df2.A                  df2.bool\n",
        "df2.abs                df2.boxplot\n",
        "df2.add                df2.C\n",
        "df2.add_prefix         df2.clip\n",
        "df2.add_suffix         df2.clip_lower\n",
        "df2.align              df2.clip_upper\n",
        "df2.all                df2.columns\n",
        "df2.any                df2.combine\n",
        "df2.append             df2.combine_first\n",
        "df2.apply              df2.compound\n",
        "df2.applymap           df2.consolidate\n",
        "df2.D"
      ]
    },
    {
      "cell_type": "markdown",
      "metadata": {
        "id": "r523c4iJv_PP",
        "colab_type": "text"
      },
      "source": [
        "##**Viewing Data**"
      ]
    },
    {
      "cell_type": "code",
      "metadata": {
        "id": "wrytjWUhv-YI",
        "colab_type": "code",
        "colab": {
          "base_uri": "https://localhost:8080/",
          "height": 204
        },
        "outputId": "96c7aed4-05da-411c-fb30-ff38006d3dc1"
      },
      "source": [
        "df.head()"
      ],
      "execution_count": 21,
      "outputs": [
        {
          "output_type": "execute_result",
          "data": {
            "text/html": [
              "<div>\n",
              "<style scoped>\n",
              "    .dataframe tbody tr th:only-of-type {\n",
              "        vertical-align: middle;\n",
              "    }\n",
              "\n",
              "    .dataframe tbody tr th {\n",
              "        vertical-align: top;\n",
              "    }\n",
              "\n",
              "    .dataframe thead th {\n",
              "        text-align: right;\n",
              "    }\n",
              "</style>\n",
              "<table border=\"1\" class=\"dataframe\">\n",
              "  <thead>\n",
              "    <tr style=\"text-align: right;\">\n",
              "      <th></th>\n",
              "      <th>A</th>\n",
              "      <th>B</th>\n",
              "      <th>C</th>\n",
              "      <th>D</th>\n",
              "    </tr>\n",
              "  </thead>\n",
              "  <tbody>\n",
              "    <tr>\n",
              "      <th>2013-01-01</th>\n",
              "      <td>0.587544</td>\n",
              "      <td>0.937401</td>\n",
              "      <td>-1.560917</td>\n",
              "      <td>0.644177</td>\n",
              "    </tr>\n",
              "    <tr>\n",
              "      <th>2013-01-02</th>\n",
              "      <td>0.479668</td>\n",
              "      <td>-0.668533</td>\n",
              "      <td>1.557058</td>\n",
              "      <td>0.192983</td>\n",
              "    </tr>\n",
              "    <tr>\n",
              "      <th>2013-01-03</th>\n",
              "      <td>0.439145</td>\n",
              "      <td>0.724800</td>\n",
              "      <td>-1.061360</td>\n",
              "      <td>-0.135357</td>\n",
              "    </tr>\n",
              "    <tr>\n",
              "      <th>2013-01-04</th>\n",
              "      <td>-0.905768</td>\n",
              "      <td>-1.819753</td>\n",
              "      <td>2.036154</td>\n",
              "      <td>-1.054889</td>\n",
              "    </tr>\n",
              "    <tr>\n",
              "      <th>2013-01-05</th>\n",
              "      <td>-1.876355</td>\n",
              "      <td>0.788241</td>\n",
              "      <td>0.313703</td>\n",
              "      <td>0.160906</td>\n",
              "    </tr>\n",
              "  </tbody>\n",
              "</table>\n",
              "</div>"
            ],
            "text/plain": [
              "                   A         B         C         D\n",
              "2013-01-01  0.587544  0.937401 -1.560917  0.644177\n",
              "2013-01-02  0.479668 -0.668533  1.557058  0.192983\n",
              "2013-01-03  0.439145  0.724800 -1.061360 -0.135357\n",
              "2013-01-04 -0.905768 -1.819753  2.036154 -1.054889\n",
              "2013-01-05 -1.876355  0.788241  0.313703  0.160906"
            ]
          },
          "metadata": {
            "tags": []
          },
          "execution_count": 21
        }
      ]
    },
    {
      "cell_type": "code",
      "metadata": {
        "id": "kEAQ_-itv28x",
        "colab_type": "code",
        "colab": {
          "base_uri": "https://localhost:8080/",
          "height": 111
        },
        "outputId": "64f30931-a0e5-44ed-ce76-c69363733bfa"
      },
      "source": [
        "df.tail(2)"
      ],
      "execution_count": 22,
      "outputs": [
        {
          "output_type": "execute_result",
          "data": {
            "text/html": [
              "<div>\n",
              "<style scoped>\n",
              "    .dataframe tbody tr th:only-of-type {\n",
              "        vertical-align: middle;\n",
              "    }\n",
              "\n",
              "    .dataframe tbody tr th {\n",
              "        vertical-align: top;\n",
              "    }\n",
              "\n",
              "    .dataframe thead th {\n",
              "        text-align: right;\n",
              "    }\n",
              "</style>\n",
              "<table border=\"1\" class=\"dataframe\">\n",
              "  <thead>\n",
              "    <tr style=\"text-align: right;\">\n",
              "      <th></th>\n",
              "      <th>A</th>\n",
              "      <th>B</th>\n",
              "      <th>C</th>\n",
              "      <th>D</th>\n",
              "    </tr>\n",
              "  </thead>\n",
              "  <tbody>\n",
              "    <tr>\n",
              "      <th>2013-01-05</th>\n",
              "      <td>-1.876355</td>\n",
              "      <td>0.788241</td>\n",
              "      <td>0.313703</td>\n",
              "      <td>0.160906</td>\n",
              "    </tr>\n",
              "    <tr>\n",
              "      <th>2013-01-06</th>\n",
              "      <td>-1.376006</td>\n",
              "      <td>0.352330</td>\n",
              "      <td>0.987541</td>\n",
              "      <td>-0.279898</td>\n",
              "    </tr>\n",
              "  </tbody>\n",
              "</table>\n",
              "</div>"
            ],
            "text/plain": [
              "                   A         B         C         D\n",
              "2013-01-05 -1.876355  0.788241  0.313703  0.160906\n",
              "2013-01-06 -1.376006  0.352330  0.987541 -0.279898"
            ]
          },
          "metadata": {
            "tags": []
          },
          "execution_count": 22
        }
      ]
    },
    {
      "cell_type": "code",
      "metadata": {
        "id": "HcLJx1UKwLld",
        "colab_type": "code",
        "colab": {
          "base_uri": "https://localhost:8080/",
          "height": 88
        },
        "outputId": "50b5cd68-d823-415f-9fdf-19ee0131eaca"
      },
      "source": [
        "#display the index, columns\n",
        "df.index"
      ],
      "execution_count": 23,
      "outputs": [
        {
          "output_type": "execute_result",
          "data": {
            "text/plain": [
              "DatetimeIndex(['2013-01-01', '2013-01-02', '2013-01-03', '2013-01-04',\n",
              "               '2013-01-05', '2013-01-06'],\n",
              "              dtype='datetime64[ns]', freq='D')"
            ]
          },
          "metadata": {
            "tags": []
          },
          "execution_count": 23
        }
      ]
    },
    {
      "cell_type": "code",
      "metadata": {
        "id": "eTmWt8JVwRDt",
        "colab_type": "code",
        "colab": {
          "base_uri": "https://localhost:8080/",
          "height": 34
        },
        "outputId": "89f56f0c-f1e7-4958-c895-2167fafb6160"
      },
      "source": [
        "df.columns"
      ],
      "execution_count": 24,
      "outputs": [
        {
          "output_type": "execute_result",
          "data": {
            "text/plain": [
              "Index(['A', 'B', 'C', 'D'], dtype='object')"
            ]
          },
          "metadata": {
            "tags": []
          },
          "execution_count": 24
        }
      ]
    },
    {
      "cell_type": "code",
      "metadata": {
        "id": "J1UdpKCZwTcs",
        "colab_type": "code",
        "colab": {}
      },
      "source": [
        ""
      ],
      "execution_count": 0,
      "outputs": []
    }
  ]
}